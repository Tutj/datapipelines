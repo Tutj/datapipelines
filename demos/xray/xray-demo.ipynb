{
 "cells": [
  {
   "cell_type": "markdown",
   "metadata": {},
   "source": [
    "# XRay pipeline demo"
   ]
  },
  {
   "cell_type": "markdown",
   "metadata": {},
   "source": [
    "### Imports and installs"
   ]
  },
  {
   "cell_type": "code",
   "execution_count": null,
   "metadata": {},
   "outputs": [],
   "source": [
    "import boto3\n",
    "import os\n",
    "import urllib3\n",
    "!pip install pillow\n",
    "urllib3.disable_warnings(urllib3.exceptions.InsecureRequestWarning)\n",
    "from io import BytesIO\n",
    "from PIL import Image"
   ]
  },
  {
   "cell_type": "markdown",
   "metadata": {},
   "source": [
    "### Connection to the S3 service"
   ]
  },
  {
   "cell_type": "code",
   "execution_count": null,
   "metadata": {},
   "outputs": [],
   "source": [
    "# Replace those values with the information from the xray-demo account,\n",
    "# and the external route that you created to the RGW.\n",
    "access_key = 'replace me' \n",
    "secret_key = 'replace me' \n",
    "service_point = 'replace me'\n",
    "\n",
    "s3 = boto3.resource('s3','us-east-1', endpoint_url=service_point,\n",
    "                       aws_access_key_id = access_key,\n",
    "                       aws_secret_access_key = secret_key,\n",
    "                        use_ssl = True if 'https' in service_point else False, verify=False)\n",
    "\n",
    "s3client = boto3.client('s3','us-east-1', endpoint_url=service_point,\n",
    "                       aws_access_key_id = access_key,\n",
    "                       aws_secret_access_key = secret_key,\n",
    "                        use_ssl = True if 'https' in service_point else False, verify=False)"
   ]
  },
  {
   "cell_type": "markdown",
   "metadata": {},
   "source": [
    "### Verify that the connection is working and all the buckets are present"
   ]
  },
  {
   "cell_type": "code",
   "execution_count": null,
   "metadata": {},
   "outputs": [],
   "source": [
    "for bucket in s3client.list_buckets()['Buckets']:\n",
    "    print(bucket['Name'])"
   ]
  },
  {
   "cell_type": "code",
   "execution_count": null,
   "metadata": {},
   "outputs": [],
   "source": [
    "os.getcwd()"
   ]
  },
  {
   "cell_type": "markdown",
   "metadata": {},
   "source": [
    "### Upload a file to xray-data-in (choose from the demo_img/PNEUMONIA folder or adapt the path)"
   ]
  },
  {
   "cell_type": "code",
   "execution_count": null,
   "metadata": {},
   "outputs": [],
   "source": [
    "filename = 'demo_Curtis Briney_1895_1942-03-12_2016-11-25.jpeg'\n",
    "cwd = os.getcwd()\n",
    "s3client.upload_file(cwd + '/demo_img/PNEUMONIA/' + filename,'xray-data-in',filename)"
   ]
  },
  {
   "cell_type": "markdown",
   "metadata": {},
   "source": [
    "### List the different buckets content"
   ]
  },
  {
   "cell_type": "code",
   "execution_count": null,
   "metadata": {},
   "outputs": [],
   "source": [
    "for item in s3client.list_objects(Bucket='xray-data-in')['Contents']:\n",
    "    print(item['Key'])"
   ]
  },
  {
   "cell_type": "code",
   "execution_count": null,
   "metadata": {},
   "outputs": [],
   "source": [
    "for item in s3client.list_objects(Bucket='xray-data-in-processed')['Contents']:\n",
    "    print(item['Key'])"
   ]
  },
  {
   "cell_type": "code",
   "execution_count": null,
   "metadata": {},
   "outputs": [],
   "source": [
    "for item in s3client.list_objects(Bucket='xray-data-in-anonymized')['Contents']:\n",
    "    print(item['Key'])"
   ]
  },
  {
   "cell_type": "markdown",
   "metadata": {},
   "source": [
    "### Display processed image (replace name with the image you want to display)"
   ]
  },
  {
   "cell_type": "code",
   "execution_count": null,
   "metadata": {},
   "outputs": [],
   "source": [
    "bckt_name='xray-data-in-processed'\n",
    "img_name='demo_Curtis Briney_1895_1942-03-12_2016-11-25-processed.jpeg'\n",
    "obj = s3client.get_object(Bucket=bckt_name, Key=img_name)\n",
    "img = Image.open(BytesIO(obj['Body'].read()))\n",
    "display(img)"
   ]
  },
  {
   "cell_type": "markdown",
   "metadata": {},
   "source": [
    "### Display anonymized image (replace name with the image you want to display)"
   ]
  },
  {
   "cell_type": "code",
   "execution_count": null,
   "metadata": {},
   "outputs": [],
   "source": [
    "bckt_name='xray-data-in-anonymized'\n",
    "img_name='demo_XXXXXXXX_23293224_XXXX-XX-XX_2016-11-25.jpeg'\n",
    "obj = s3client.get_object(Bucket=bckt_name, Key=img_name)\n",
    "img = Image.open(BytesIO(obj['Body'].read()))\n",
    "display(img)"
   ]
  }
 ],
 "metadata": {
  "kernelspec": {
   "display_name": "Python 3",
   "language": "python",
   "name": "python3"
  },
  "language_info": {
   "codemirror_mode": {
    "name": "ipython",
    "version": 3
   },
   "file_extension": ".py",
   "mimetype": "text/x-python",
   "name": "python",
   "nbconvert_exporter": "python",
   "pygments_lexer": "ipython3",
   "version": "3.7.3"
  }
 },
 "nbformat": 4,
 "nbformat_minor": 4
}