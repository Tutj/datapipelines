{
 "cells": [
  {
   "cell_type": "markdown",
   "metadata": {},
   "source": [
    "### Imports"
   ]
  },
  {
   "cell_type": "code",
   "execution_count": 1,
   "metadata": {},
   "outputs": [],
   "source": [
    "from ach.builder import AchFile\n",
    "import math\n",
    "import names\n",
    "import random"
   ]
  },
  {
   "cell_type": "markdown",
   "metadata": {},
   "source": [
    "### Helpers"
   ]
  },
  {
   "cell_type": "code",
   "execution_count": 2,
   "metadata": {},
   "outputs": [],
   "source": [
    "# Function that calculates the check_digit for bank routing number\n",
    "def calc_check_digit(entry):\n",
    "    multipliers = [3, 7, 1, 3, 7, 1, 3, 7]\n",
    "    tmp_num = 0\n",
    "    for num, mult in zip(list(entry), multipliers):\n",
    "        tmp_num += int(num) * mult\n",
    "    nearest_10 = math.ceil(tmp_num / 10.0)\n",
    "    return str(int((nearest_10 * 10) - tmp_num))"
   ]
  },
  {
   "cell_type": "markdown",
   "metadata": {},
   "source": [
    "### Banks and companies initialization"
   ]
  },
  {
   "cell_type": "code",
   "execution_count": 3,
   "metadata": {},
   "outputs": [],
   "source": [
    "# banks format = (routing without check_digit, name)\n",
    "banks = [\n",
    "    ('06200001','BANK OF NEW-YORK'),\n",
    "    ('06200002','BANK OF CHICAGO'),\n",
    "    ('06200003','BANK OF BOSTON'),\n",
    "    ('06200004','BANK OF LOS ANGELES'),\n",
    "    ('06200005','BANK OF ORLANDO'),\n",
    "    ('06200006','BANK OF DENVER'),\n",
    "    ('06200007','BANK OF SEATTLE')\n",
    "]\n",
    "\n",
    "# companies format = (ACH id, name)\n",
    "companies = [\n",
    "    ('5094142940','Seamless Car Ltd'),\n",
    "    ('0256851808','SunRay Candies Inc'),\n",
    "    ('2966751269','Monocles Lighting Ltd'),\n",
    "    ('1035542944','Collaborative Dogs Inc'),\n",
    "    ('9155404762','Homegrown UFO Ltd'),\n",
    "    ('9950412630','Guitars Valley Inc'),\n",
    "    ('1050377871','Snow Avatar Ltd'),\n",
    "    ('0041596227','Aero North Inc'),\n",
    "    ('5345923695','Aqua Sausage Ltd'),\n",
    "    ('8048237614','Vantage Comics Inc')\n",
    "]\n",
    "\n",
    "companies_banks = [1,2,3,4,5,6,0,1,2,3]"
   ]
  },
  {
   "cell_type": "markdown",
   "metadata": {},
   "source": [
    "### ACH file generation"
   ]
  },
  {
   "cell_type": "code",
   "execution_count": 17,
   "metadata": {},
   "outputs": [],
   "source": [
    "# Create random settings entry for the ACH file\n",
    "def create_setting_entry():\n",
    "    selected_company = random.randint(0,9)  # Select a random company\n",
    "    selected_bank = companies_banks[selected_company]  # Find the corresponding bank (ODFI)\n",
    "    immediate_dest = banks[selected_bank][0]+calc_check_digit(banks[selected_bank][0])  # ODFI Bank routing number\n",
    "    immediate_org = companies[selected_company][0]  #  Company's ACH id\n",
    "    immediate_dest_name = banks[selected_bank][1]  # Bank's name\n",
    "    immediate_org_name = companies[selected_company][1]  # Company's name\n",
    "    company_id = companies[selected_company][0] #  Company's ACH id (again, comes from original generator)\n",
    "    \n",
    "    settings = {\n",
    "        'immediate_dest' : immediate_dest,\n",
    "        'immediate_org' : immediate_org,\n",
    "        'immediate_dest_name' : immediate_dest_name,\n",
    "        'immediate_org_name' : immediate_org_name,\n",
    "        'company_id' : company_id, #tax number\n",
    "    }\n",
    "\n",
    "    return settings\n",
    "\n",
    "# Create random transaction entries\n",
    "def create_transactions_entries():\n",
    "    max_entries = random.randint(300,500)  # Number of transactions per files\n",
    "    entries=[]\n",
    "    for x in range (1,max_entries):\n",
    "        routing_number = banks[random.randint(0,6)][0][0:8] # Randomly select an RDFI bank (customer's bank)\n",
    "        account_number = str(random.randint(111111111,999999999))   # Random customer account number\n",
    "        amount = str(random.randint(100,200000)/100)  # Random amount between 1.00 and 2000.00\n",
    "        name = names.get_full_name()  #  Generates random names\n",
    "        entries.append({\n",
    "            'type'           : '27',  #  We're creatign debits only\n",
    "            'routing_number' : routing_number,\n",
    "            'account_number' : account_number,\n",
    "            'amount'         : amount,\n",
    "            'name'           : name\n",
    "\n",
    "        })     \n",
    "    \n",
    "    return entries\n",
    "\n",
    "# Initialize a new ACH file\n",
    "ach_file = AchFile('A', create_setting_entry())\n",
    "\n",
    "# Create entries\n",
    "entries = create_transactions_entries()\n",
    "\n",
    "# Populate ACH file with generated entries\n",
    "ach_file.add_batch('POS', entries, credits=True, debits=True)\n",
    "\n",
    "# Print file\n",
    "print(ach_file.render_to_string())\n",
    "\n",
    "# Write file\n",
    "#f = open(\"data/ach1.txt\", \"w\")\n",
    "#f.write(ach_file.render_to_string())\n",
    "#f.close()\n"
   ]
  }
 ],
 "metadata": {
  "kernelspec": {
   "display_name": "Python 3",
   "language": "python",
   "name": "python3"
  },
  "language_info": {
   "codemirror_mode": {
    "name": "ipython",
    "version": 3
   },
   "file_extension": ".py",
   "mimetype": "text/x-python",
   "name": "python",
   "nbconvert_exporter": "python",
   "pygments_lexer": "ipython3",
   "version": "3.7.3"
  }
 },
 "nbformat": 4,
 "nbformat_minor": 2
}
